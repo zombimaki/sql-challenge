{
 "cells": [
  {
   "cell_type": "markdown",
   "metadata": {},
   "source": [
    "# Bonus Work for SQL-Challenge\n"
   ]
  },
  {
   "cell_type": "code",
   "execution_count": 1,
   "metadata": {},
   "outputs": [],
   "source": [
    "# enable jupyter notebook to load from the .env file. I installed python-dotenv for this.\n",
    "%load_ext dotenv\n",
    "%dotenv\n",
    "%matplotlib inline"
   ]
  },
  {
   "cell_type": "code",
   "execution_count": 2,
   "metadata": {},
   "outputs": [],
   "source": [
    "import os\n",
    "import pandas as pd\n",
    "import numpy as np\n",
    "import matplotlib.pyplot as plt\n",
    "\n",
    "# pull database url from .env file\n",
    "database_url = os.environ.get('DATABASE_URL')\n",
    "    \n",
    "from sqlalchemy import create_engine\n",
    "\n",
    "engine = create_engine(database_url)\n",
    "\n",
    "connection = engine.connect()"
   ]
  },
  {
   "cell_type": "markdown",
   "metadata": {},
   "source": [
    "## Import tables from the Postgres employee database into Pandas."
   ]
  },
  {
   "cell_type": "code",
   "execution_count": 3,
   "metadata": {},
   "outputs": [],
   "source": [
    "# import employees table into a pandas df\n",
    "employee_df = pd.read_sql_query('select * from employees',con=engine)\n",
    "\n",
    "# import salaries table into a pandas df\n",
    "salary_df = pd.read_sql_query('select * from salaries',con=engine)\n",
    "\n",
    "#import title table into a pandas df\n",
    "title_df = pd.read_sql_query('select * from titles',con=engine)\n",
    "\n",
    "# merge employee df and salary df\n",
    "employee_final_df = pd.merge(employee_df, salary_df, left_on=['emp_no'], right_on=['emp_no'])\n",
    "\n",
    "# merge employee final df and title df\n",
    "employee_final_df = pd.merge(employee_final_df, title_df, left_on=['emp_title_id'], right_on=['title_id'])"
   ]
  },
  {
   "cell_type": "code",
   "execution_count": 8,
   "metadata": {},
   "outputs": [
    {
     "data": {
      "text/plain": [
       "emp_no          300024\n",
       "emp_title_id    300024\n",
       "birth_date      300024\n",
       "first_name      300024\n",
       "last_name       300024\n",
       "sex             300024\n",
       "hire_date       300024\n",
       "salary          300024\n",
       "title_id        300024\n",
       "title           300024\n",
       "clean_salary    300024\n",
       "dtype: int64"
      ]
     },
     "execution_count": 8,
     "metadata": {},
     "output_type": "execute_result"
    }
   ],
   "source": [
    "employee_final_df.count()"
   ]
  },
  {
   "cell_type": "markdown",
   "metadata": {},
   "source": [
    "## Create a histogram to visualize the most common salary ranges for employees"
   ]
  },
  {
   "cell_type": "code",
   "execution_count": 5,
   "metadata": {},
   "outputs": [
    {
     "data": {
      "image/png": "[encoded data removed]",
      "text/plain": [
       "<Figure size 432x288 with 1 Axes>"
      ]
     },
     "metadata": {
      "needs_background": "light"
     },
     "output_type": "display_data"
    }
   ],
   "source": [
    "# create a new clean salary field without commas and dollar signes\n",
    "employee_final_df['clean_salary'] = employee_final_df[employee_final_df.columns[7:8]] = employee_final_df[employee_final_df.columns[7:8]].replace('[\\$,]', '', regex=True).astype(float)\n",
    "\n",
    "\n",
    "# create a salary list\n",
    "salaries = employee_final_df['clean_salary'].tolist()\n",
    "\n",
    "\n",
    "# define the bins to use in the histogram\n",
    "salary_bins = [40000,50000,60000,70000,80000,90000,100000,110000,120000,130000]\n",
    "\n",
    "fig,ax = plt.subplots()\n",
    "\n",
    "x = np.array(salaries)\n",
    "\n",
    "ax.hist(x, bins = salary_bins)\n",
    "ax.set_title(\"Employee Salaries\")\n",
    "ax.set_xlabel('Salaries')\n",
    "ax.set_ylabel('Nbr of Employees')\n",
    "plt.grid()\n",
    "plt.show()"
   ]
  },
  {
   "cell_type": "markdown",
   "metadata": {},
   "source": [
    "## Create a bar chart of average salary by title"
   ]
  },
  {
   "cell_type": "code",
   "execution_count": 6,
   "metadata": {},
   "outputs": [
    {
     "data": {
      "image/png": "[encoded data removed]",
      "text/plain": [
       "<Figure size 432x288 with 1 Axes>"
      ]
     },
     "metadata": {
      "needs_background": "light"
     },
     "output_type": "display_data"
    }
   ],
   "source": [
    "amp_group_title_df = employee_final_df.groupby('title')['clean_salary'].mean()\n",
    "\n",
    "\n",
    "count_chart = amp_group_title_df.plot(kind='bar', color=\"red\")\n",
    "\n",
    "plt.title(\"Average Salary by Title\")\n",
    "plt.xlabel(\"Employee Title\")\n",
    "plt.ylabel(\"Average Salary\")\n",
    "\n",
    "plt.grid()\n",
    "plt.show()\n"
   ]
  },
  {
   "cell_type": "markdown",
   "metadata": {},
   "source": [
    "## Epilogue"
   ]
  },
  {
   "cell_type": "code",
   "execution_count": 7,
   "metadata": {},
   "outputs": [
    {
     "data": {
      "text/html": [
       "<div>\n",
       "<style scoped>\n",
       "    .dataframe tbody tr th:only-of-type {\n",
       "        vertical-align: middle;\n",
       "    }\n",
       "\n",
       "    .dataframe tbody tr th {\n",
       "        vertical-align: top;\n",
       "    }\n",
       "\n",
       "    .dataframe thead th {\n",
       "        text-align: right;\n",
       "    }\n",
       "</style>\n",
       "<table border=\"1\" class=\"dataframe\">\n",
       "  <thead>\n",
       "    <tr style=\"text-align: right;\">\n",
       "      <th></th>\n",
       "      <th>emp_no</th>\n",
       "      <th>emp_title_id</th>\n",
       "      <th>birth_date</th>\n",
       "      <th>first_name</th>\n",
       "      <th>last_name</th>\n",
       "      <th>sex</th>\n",
       "      <th>hire_date</th>\n",
       "      <th>salary</th>\n",
       "      <th>title_id</th>\n",
       "      <th>title</th>\n",
       "      <th>clean_salary</th>\n",
       "    </tr>\n",
       "  </thead>\n",
       "  <tbody>\n",
       "    <tr>\n",
       "      <th>287532</th>\n",
       "      <td>499942</td>\n",
       "      <td>e0004</td>\n",
       "      <td>1963-01-10</td>\n",
       "      <td>April</td>\n",
       "      <td>Foolsday</td>\n",
       "      <td>F</td>\n",
       "      <td>1997-02-10</td>\n",
       "      <td>40000.0</td>\n",
       "      <td>e0004</td>\n",
       "      <td>Technique Leader</td>\n",
       "      <td>40000.0</td>\n",
       "    </tr>\n",
       "  </tbody>\n",
       "</table>\n",
       "</div>"
      ],
      "text/plain": [
       "        emp_no emp_title_id  birth_date first_name last_name sex   hire_date  \\\n",
       "287532  499942        e0004  1963-01-10      April  Foolsday   F  1997-02-10   \n",
       "\n",
       "         salary title_id             title  clean_salary  \n",
       "287532  40000.0    e0004  Technique Leader       40000.0  "
      ]
     },
     "execution_count": 7,
     "metadata": {},
     "output_type": "execute_result"
    }
   ],
   "source": [
    "# it was all an April Fools...\n",
    "epilogue =  employee_final_df.loc[employee_final_df['emp_no'] == 499942]\n",
    "\n",
    "epilogue"
   ]
  },
  {
   "cell_type": "code",
   "execution_count": null,
   "metadata": {},
   "outputs": [],
   "source": []
  }
 ],
 "metadata": {
  "kernelspec": {
   "display_name": "Python [conda env:.conda-PythonData]",
   "language": "python",
   "name": "conda-env-.conda-PythonData-py"
  },
  "language_info": {
   "codemirror_mode": {
    "name": "ipython",
    "version": 3
   },
   "file_extension": ".py",
   "mimetype": "text/x-python",
   "name": "python",
   "nbconvert_exporter": "python",
   "pygments_lexer": "ipython3",
   "version": "3.6.10"
  }
 },
 "nbformat": 4,
 "nbformat_minor": 4
}
